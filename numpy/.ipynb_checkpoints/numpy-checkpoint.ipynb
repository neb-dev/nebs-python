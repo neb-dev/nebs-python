{
 "cells": [
  {
   "cell_type": "code",
   "execution_count": 1,
   "id": "f334d569",
   "metadata": {},
   "outputs": [
    {
     "data": {
      "text/plain": [
       "[[3, 21, 14, 7, 15], [], []]"
      ]
     },
     "execution_count": 1,
     "metadata": {},
     "output_type": "execute_result"
    }
   ],
   "source": [
    "[[3,21,14,7,15],[],[]]"
   ]
  },
  {
   "cell_type": "code",
   "execution_count": 6,
   "id": "8cc7c44e",
   "metadata": {},
   "outputs": [
    {
     "name": "stdout",
     "output_type": "stream",
     "text": [
      "[ 0  1  2  3  4  5  6  7  8  9 10 11 12 13 14 15 16 17 18 19 20 21 22 23\n",
      " 24]\n"
     ]
    },
    {
     "data": {
      "text/plain": [
       "numpy.ndarray"
      ]
     },
     "execution_count": 6,
     "metadata": {},
     "output_type": "execute_result"
    }
   ],
   "source": [
    "import numpy\n",
    "data=numpy.arange(25)\n",
    "print(data)\n",
    "type(data)"
   ]
  },
  {
   "cell_type": "code",
   "execution_count": 8,
   "id": "510b7829",
   "metadata": {},
   "outputs": [
    {
     "data": {
      "text/plain": [
       "array([[ 0,  1,  2,  3,  4],\n",
       "       [ 5,  6,  7,  8,  9],\n",
       "       [10, 11, 12, 13, 14],\n",
       "       [15, 16, 17, 18, 19],\n",
       "       [20, 21, 22, 23, 24]])"
      ]
     },
     "execution_count": 8,
     "metadata": {},
     "output_type": "execute_result"
    }
   ],
   "source": [
    "data.reshape(5,5)"
   ]
  },
  {
   "cell_type": "code",
   "execution_count": 12,
   "id": "e60957c3",
   "metadata": {},
   "outputs": [
    {
     "data": {
      "text/plain": [
       "array([[[ 0,  1,  2],\n",
       "        [ 3,  4,  5],\n",
       "        [ 6,  7,  8]],\n",
       "\n",
       "       [[ 9, 10, 11],\n",
       "        [12, 13, 14],\n",
       "        [15, 16, 17]],\n",
       "\n",
       "       [[18, 19, 20],\n",
       "        [21, 22, 23],\n",
       "        [24, 25, 26]]])"
      ]
     },
     "execution_count": 12,
     "metadata": {},
     "output_type": "execute_result"
    }
   ],
   "source": [
    "data2 = numpy.arange(27)\n",
    "data2.reshape(3,3,3)"
   ]
  },
  {
   "cell_type": "code",
   "execution_count": 19,
   "id": "8732c70d",
   "metadata": {},
   "outputs": [
    {
     "data": {
      "text/plain": [
       "numpy.ndarray"
      ]
     },
     "execution_count": 19,
     "metadata": {},
     "output_type": "execute_result"
    }
   ],
   "source": [
    "data3 = numpy.asarray([[3,21,14,7,15],[],[]])\n",
    "data3\n",
    "type(data3)"
   ]
  },
  {
   "cell_type": "code",
   "execution_count": 22,
   "id": "8d101b2d",
   "metadata": {},
   "outputs": [
    {
     "data": {
      "text/plain": [
       "numpy.ndarray"
      ]
     },
     "execution_count": 22,
     "metadata": {},
     "output_type": "execute_result"
    }
   ],
   "source": [
    "import cv2\n",
    "grayscale_img = cv2.imread(\"/Users/joshua.nebeker/Desktop/nebs-python/files/smallgray.png\", 0)\n",
    "type(grayscale_img)"
   ]
  },
  {
   "cell_type": "code",
   "execution_count": null,
   "id": "a31743ad",
   "metadata": {},
   "outputs": [],
   "source": [
    "cv2.imwrite(\"newsmallgray.png\", grayscale_img)"
   ]
  }
 ],
 "metadata": {
  "kernelspec": {
   "display_name": "Python 3",
   "language": "python",
   "name": "python3"
  },
  "language_info": {
   "codemirror_mode": {
    "name": "ipython",
    "version": 3
   },
   "file_extension": ".py",
   "mimetype": "text/x-python",
   "name": "python",
   "nbconvert_exporter": "python",
   "pygments_lexer": "ipython3",
   "version": "3.9.4"
  }
 },
 "nbformat": 4,
 "nbformat_minor": 5
}
